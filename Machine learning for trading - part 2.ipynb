{
 "cells": [
  {
   "cell_type": "markdown",
   "metadata": {},
   "source": [
    "# Machine learning for trading"
   ]
  },
  {
   "cell_type": "markdown",
   "metadata": {},
   "source": [
    "### Lesson 8: 01-07 Sharpe ratio and other portfolio statistics\n"
   ]
  },
  {
   "cell_type": "markdown",
   "metadata": {},
   "source": [
    "### What Is The Sharpe Ratio:\n",
    "#### Recall the formula for computing Sharpe ratio:\n",
    "\n",
    "k * mean(_daily_rets_ - _daily_rf_) / std(_daily_rets_)\n",
    "\n",
    "where k = sqrt(252) for daily sampling.\n",
    "\n",
    "where k = sqrt(52) for daily sampling.\n",
    "\n",
    "where k = sqrt(12) for daily sampling.\n",
    "\n",
    "\n",
    "_daily_rf_ = Daily return risk free - (selic, cdb, etc)\n"
   ]
  },
  {
   "cell_type": "code",
   "execution_count": 4,
   "metadata": {
    "collapsed": false
   },
   "outputs": [
    {
     "name": "stdout",
     "output_type": "stream",
     "text": [
      "12.699606293110037\n"
     ]
    }
   ],
   "source": [
    "k = 252**(1/2)\n",
    "\n",
    "std_daily_ret = 0.001\n",
    "\n",
    "avg_daily_ret = 0.001\n",
    "\n",
    "daily_rf = 0.0002\n",
    "\n",
    "sr = k * (avg_daily_ret - daily_rf)/std_daily_ret\n",
    "\n",
    "print(sr)"
   ]
  },
  {
   "cell_type": "markdown",
   "metadata": {},
   "source": [
    "### Lesson 9: 01-08 Optimizers: Building a parameterized model\n"
   ]
  },
  {
   "cell_type": "code",
   "execution_count": 15,
   "metadata": {
    "collapsed": false
   },
   "outputs": [
    {
     "name": "stdout",
     "output_type": "stream",
     "text": [
      "X = [ 2.], Y = [ 0.75]\n",
      "X = [ 2.], Y = [ 0.75]\n",
      "X = [ 2.00000001], Y = [ 0.75000001]\n",
      "X = [ 0.99999999], Y = [ 0.75000001]\n",
      "X = [ 1.5], Y = [ 0.5]\n",
      "X = [ 1.5], Y = [ 0.5]\n",
      "X = [ 1.50000001], Y = [ 0.5]\n",
      "Optimization terminated successfully.    (Exit mode 0)\n",
      "            Current function value: 0.5\n",
      "            Iterations: 2\n",
      "            Function evaluations: 7\n",
      "            Gradient evaluations: 2\n",
      "Minima found at:\n",
      "X = [ 1.5], Y = 0.5\n",
      "X = [ 0.5  0.6  0.7  0.8  0.9  1.   1.1  1.2  1.3  1.4  1.5  1.6  1.7  1.8  1.9\n",
      "  2.   2.1  2.2  2.3  2.4  2.5], Y = [ 1.5   1.31  1.14  0.99  0.86  0.75  0.66  0.59  0.54  0.51  0.5   0.51\n",
      "  0.54  0.59  0.66  0.75  0.86  0.99  1.14  1.31  1.5 ]\n"
     ]
    },
    {
     "data": {
      "image/png": "[encoded data removed]",
      "text/plain": [
       "<matplotlib.figure.Figure at 0x24b27e8fe48>"
      ]
     },
     "metadata": {},
     "output_type": "display_data"
    }
   ],
   "source": [
    "''' Minimize an objective function, using SciPy'''\n",
    "\n",
    "\n",
    "import pandas as pd\n",
    "import matplotlib.pyplot as plt\n",
    "import numpy as np\n",
    "import scipy.optimize as spo\n",
    "\n",
    "\n",
    "\n",
    "def f(X):\n",
    "    '''Given a scalar X, return some value (a real number).'''\n",
    "    \n",
    "    Y = (X - 1.5)**2 + 0.5\n",
    "    \n",
    "    #Y = X**3\n",
    "    \n",
    "    print('X = {}, Y = {}'.format(X,Y)) #for tracing\n",
    "    \n",
    "    return Y\n",
    "\n",
    "def test_minimize():\n",
    "    Xguess = 2.0\n",
    "    min_result = spo.minimize(f,Xguess, method='SLSQP', \n",
    "                              options={'disp': True})\n",
    "    \n",
    "    print('Minima found at:')\n",
    "    print('X = {}, Y = {}'.format(min_result.x,min_result.fun))\n",
    "    \n",
    "    \n",
    "    Xplot = np.linspace(0.5,2.5,21)\n",
    "    Yplot = f(Xplot)\n",
    "    plt.plot(Xplot, Yplot )\n",
    "    plt.plot(min_result.x,min_result.fun,'ro')\n",
    "    plt.title('Minima of an objective funcion')\n",
    "    plt.show()\n",
    "\n",
    "test_minimize()"
   ]
  },
  {
   "cell_type": "code",
   "execution_count": null,
   "metadata": {
    "collapsed": true
   },
   "outputs": [],
   "source": []
  }
 ],
 "metadata": {
  "kernelspec": {
   "display_name": "Python [conda env:keras]",
   "language": "python",
   "name": "conda-env-keras-py"
  },
  "language_info": {
   "codemirror_mode": {
    "name": "ipython",
    "version": 3
   },
   "file_extension": ".py",
   "mimetype": "text/x-python",
   "name": "python",
   "nbconvert_exporter": "python",
   "pygments_lexer": "ipython3",
   "version": "3.5.3"
  }
 },
 "nbformat": 4,
 "nbformat_minor": 1
}
